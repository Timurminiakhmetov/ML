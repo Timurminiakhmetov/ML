{
 "cells": [
  {
   "cell_type": "markdown",
   "metadata": {
    "id": "mxFxz_F79yxV"
   },
   "source": [
    "*Credits: materials from this notebook belong to YSDA [Practical DL](https://github.com/yandexdataschool/Practical_DL) course. Special thanks for making them available online.*"
   ]
  },
  {
   "cell_type": "markdown",
   "metadata": {
    "id": "QOSG61ii9yxZ"
   },
   "source": [
    "# Lab assignment №1, part 1\n",
    "\n",
    "This lab assignment consists of several parts. You are supposed to make some transformations, train some models, estimate the quality of the models and explain your results.\n",
    "\n",
    "Several comments:\n",
    "* Don't hesitate to ask questions, it's a good practice.\n",
    "* No private/public sharing, please. The copied assignments will be graded with 0 points.\n",
    "* Blocks of this lab will be graded separately."
   ]
  },
  {
   "cell_type": "markdown",
   "metadata": {
    "id": "CAS4bcUW9yxc"
   },
   "source": [
    "## 1. Matrix differentiation"
   ]
  },
  {
   "cell_type": "markdown",
   "metadata": {
    "id": "UI26qXUG9yxe"
   },
   "source": [
    "Since it easy to google every task please please please try to undestand what's going on. The \"just answer\" thing will be not counted, make sure to present derivation of your solution. It is absolutely OK if you found an answer on web then just exercise in $\\LaTeX$ copying it into here."
   ]
  },
  {
   "cell_type": "markdown",
   "metadata": {
    "id": "lVJOFt1L9yxg"
   },
   "source": [
    "Useful links:\n",
    "[1](http://www.machinelearning.ru/wiki/images/2/2a/Matrix-Gauss.pdf)\n",
    "[2](http://www.atmos.washington.edu/~dennis/MatrixCalculus.pdf)"
   ]
  },
  {
   "cell_type": "markdown",
   "metadata": {
    "id": "QJT5uJ7R9yxh"
   },
   "source": [
    "## ex. 1"
   ]
  },
  {
   "cell_type": "markdown",
   "metadata": {
    "id": "ZIPFVohl9yxi"
   },
   "source": [
    "$$  \n",
    "y = x^Tx,  \\quad x \\in \\mathbb{R}^N\n",
    "$$"
   ]
  },
  {
   "cell_type": "markdown",
   "metadata": {
    "id": "725ReDqZ9yxk"
   },
   "source": [
    "$y = x^Tx, \\quad x \\in \\mathbb{R}^N$\n",
    "\n",
    "$\\frac{dy}{dx} = 2x$"
   ]
  },
  {
   "cell_type": "code",
   "execution_count": null,
   "metadata": {
    "id": "rejilfhuAVAR"
   },
   "outputs": [],
   "source": [
    "Это скалярное произведение вектора на себя\n",
    "При дифференцировании квадратичной формы получаем линейную форму с коэффициентом 2\n",
    "Результат - вектор той же размерности, что и x"
   ]
  },
  {
   "cell_type": "markdown",
   "metadata": {
    "id": "hNXLtVwm9yxn"
   },
   "source": [
    "## ex. 2"
   ]
  },
  {
   "cell_type": "markdown",
   "metadata": {
    "id": "VKFuLGYa9yxo"
   },
   "source": [
    "$$ y = tr(AB) \\quad A,B \\in \\mathbb{R}^{N \\times N} $$"
   ]
  },
  {
   "cell_type": "markdown",
   "metadata": {
    "id": "BHcmoR5l9yxp"
   },
   "source": [
    "$y = tr(AB), \\quad A,B \\in \\mathbb{R}^{N \\times N}$\n",
    "\n",
    "$\\frac{dy}{dA} = B^T$"
   ]
  },
  {
   "cell_type": "code",
   "execution_count": null,
   "metadata": {
    "collapsed": true,
    "id": "tAu8Cj7U9yxq",
    "jupyter": {
     "outputs_hidden": true
    }
   },
   "outputs": [],
   "source": [
    "След произведения матриц - это сумма произведений элементов\n",
    "При дифференцировании по матрице A получаем транспонированную матрицу B"
   ]
  },
  {
   "cell_type": "markdown",
   "metadata": {
    "id": "EvOEdI3T9yxq"
   },
   "source": [
    "## ex. 3"
   ]
  },
  {
   "cell_type": "markdown",
   "metadata": {
    "id": "gTHnD9Zl9yxr"
   },
   "source": [
    "$$  \n",
    "y = x^TAc , \\quad A\\in \\mathbb{R}^{N \\times N}, x\\in \\mathbb{R}^{N}, c\\in \\mathbb{R}^{N}\n",
    "$$"
   ]
  },
  {
   "cell_type": "markdown",
   "metadata": {
    "id": "gC59Ozpu9yxr"
   },
   "source": [
    "$y = x^TAc$\n",
    "\n",
    "$\\frac{dy}{dx} = Ac$"
   ]
  },
  {
   "cell_type": "markdown",
   "metadata": {
    "id": "NmPqZm_s9yxs"
   },
   "source": [
    "$\\frac{dy}{dA} = cx^T$"
   ]
  },
  {
   "cell_type": "markdown",
   "metadata": {
    "id": "IDzBd7bE9yxt"
   },
   "source": [
    "Hint for the latter (one of the ways): use *ex. 2* result and the fact\n",
    "$$\n",
    "tr(ABC) = tr (CAB)\n",
    "$$"
   ]
  },
  {
   "cell_type": "code",
   "execution_count": null,
   "metadata": {
    "collapsed": true,
    "id": "b6Sl6X3z9yxt",
    "jupyter": {
     "outputs_hidden": true
    }
   },
   "outputs": [],
   "source": [
    "Для первой производной: дифференцируем по x, получаем произведение A на c\n",
    "Для второй производной: используем свойство следа tr(ABC) = tr(CAB) и результат из ex. 2"
   ]
  },
  {
   "cell_type": "markdown",
   "metadata": {
    "id": "q9c-kE__9yxu"
   },
   "source": [
    "## ex. 4"
   ]
  },
  {
   "cell_type": "markdown",
   "metadata": {
    "id": "m8XE-nQp9yxu"
   },
   "source": [
    "Classic matrix factorization example. Given matrix $X$ you need to find $A$, $S$ to approximate $X$. This can be done by simple gradient descent iteratively alternating $A$ and $S$ updates.\n",
    "$$\n",
    "J = || X - AS ||_F^2  , \\quad A\\in \\mathbb{R}^{N \\times R} , \\quad S\\in \\mathbb{R}^{R \\times M}\n",
    "$$\n",
    "$$\n",
    "\\frac{dJ}{dS} = ?\n",
    "$$\n",
    "\n",
    "You may use one of the following approaches:"
   ]
  },
  {
   "cell_type": "markdown",
   "metadata": {
    "id": "Qdxk603Z9yxv"
   },
   "source": [
    "#### First approach\n",
    "Using ex.2 and the fact:\n",
    "$$\n",
    "|| X ||_F^2 = tr(XX^T)\n",
    "$$\n",
    "it is easy to derive gradients (you can find it in one of the refs)."
   ]
  },
  {
   "cell_type": "markdown",
   "metadata": {
    "id": "jdumip869yxv"
   },
   "source": [
    "#### Second approach\n",
    "You can use *slightly different techniques* if they suits you. Take a look at this derivation:\n",
    "<img src=\"https://github.com/girafe-ai/ml-course/blob/23f_basic/homeworks/lab01_ml_pipeline/grad.png?raw=1\">\n",
    "(excerpt from [Handbook of blind source separation, Jutten, page 517](https://books.google.ru/books?id=PTbj03bYH6kC&printsec=frontcover&dq=Handbook+of+Blind+Source+Separation&hl=en&sa=X&ved=0ahUKEwi-q_apiJDLAhULvXIKHVXJDWcQ6AEIHDAA#v=onepage&q=Handbook%20of%20Blind%20Source%20Separation&f=false), open for better picture)."
   ]
  },
  {
   "cell_type": "markdown",
   "metadata": {
    "id": "cYDdb9WK9yxw"
   },
   "source": [
    "#### Third approach\n",
    "And finally we can use chain rule!\n",
    "let $ F = AS $\n",
    "\n",
    "**Find**\n",
    "$$\n",
    "\\frac{dJ}{dF} =  \n",
    "$$\n",
    "and\n",
    "$$\n",
    "\\frac{dF}{dS} =  \n",
    "$$\n",
    "(the shape should be $ NM \\times RM )$.\n",
    "\n",
    "Now it is easy do get desired gradients:\n",
    "$$\n",
    "\\frac{dJ}{dS} =  \n",
    "$$\n",
    "\n",
    "\n",
    "\n",
    "$J = ||X - AS||_F^2$\n",
    "\n",
    "Используя подход через цепное правило:\n",
    "\n",
    "$\\frac{dJ}{dF} = -2(X - AS)$\n",
    "\n",
    "$\\frac{dF}{dS} = A^T$\n",
    "\n",
    "$\\frac{dJ}{dS} = -2A^T(X - AS)$"
   ]
  },
  {
   "cell_type": "markdown",
   "metadata": {
    "collapsed": true,
    "id": "H0IpTYDP9yxw",
    "jupyter": {
     "outputs_hidden": true
    }
   },
   "source": [
    "## 2. kNN questions\n",
    "Here come the questions from the assignment0_01. Please, refer to the assignment0_01 to get the context of the questions."
   ]
  },
  {
   "cell_type": "markdown",
   "metadata": {
    "id": "9ICjbXyX9yxx"
   },
   "source": [
    "### Question 1\n",
    "\n",
    "Notice the structured patterns in the distance matrix, where some rows or columns are visible brighter. (Note that with the default color scheme black indicates low distances while white indicates high distances.)\n",
    "\n",
    "- What in the data is the cause behind the distinctly bright rows?\n",
    "- What causes the columns?\n",
    "\n",
    "*Your Answer:*\n",
    "Яркие строки и столбцы в матрице расстояний появляются из-за:\n",
    "\n",
    "1. Яркие строки: изображения, которые сильно отличаются от большинства других (outliers)\n",
    "2. Яркие столбцы: тестовые изображения, которые имеют большие расстояния до многих тренировочных изображений\n",
    "\n"
   ]
  },
  {
   "cell_type": "markdown",
   "metadata": {
    "id": "K7mLetWR9yxx"
   },
   "source": [
    "### Question 2\n",
    "\n",
    "We can also use other distance metrics such as L1 distance.\n",
    "For pixel values $p_{ij}^{(k)}$ at location $(i,j)$ of some image $I_k$,\n",
    "\n",
    "the mean $\\mu$ across all pixels over all images is $$\\mu=\\frac{1}{nhw}\\sum_{k=1}^n\\sum_{i=1}^{h}\\sum_{j=1}^{w}p_{ij}^{(k)}$$\n",
    "And the pixel-wise mean $\\mu_{ij}$ across all images is\n",
    "$$\\mu_{ij}=\\frac{1}{n}\\sum_{k=1}^np_{ij}^{(k)}.$$\n",
    "The general standard deviation $\\sigma$ and pixel-wise standard deviation $\\sigma_{ij}$ is defined similarly.\n",
    "\n",
    "Which of the following preprocessing steps will not change the performance of a Nearest Neighbor classifier that uses L1 distance? Select all that apply.\n",
    "1. Subtracting the mean $\\mu$ ($\\tilde{p}_{ij}^{(k)}=p_{ij}^{(k)}-\\mu$.)\n",
    "2. Subtracting the per pixel mean $\\mu_{ij}$  ($\\tilde{p}_{ij}^{(k)}=p_{ij}^{(k)}-\\mu_{ij}$.)\n",
    "3. Subtracting the mean $\\mu$ and dividing by the standard deviation $\\sigma$.\n",
    "4. Subtracting the pixel-wise mean $\\mu_{ij}$ and dividing by the pixel-wise standard deviation $\\sigma_{ij}$.\n",
    "5. Rotating the coordinate axes of the data.\n",
    "\n",
    "*Your Answer:*\n",
    "\n",
    "\n",
    "*Your Explanation:*\n",
    "\n",
    "Корректные ответы: 1, 5\n",
    "\n",
    "Объяснение:\n",
    "\n",
    "Вычитание общего среднего μ не меняет L1 расстояния между точками\n",
    "Поворот координатных осей сохраняет L1 расстояния\n",
    "Остальные преобразования изменяют относительные расстояния между точками"
   ]
  },
  {
   "cell_type": "markdown",
   "metadata": {
    "id": "_fIt0YZd9yxy"
   },
   "source": [
    "## Question 3\n",
    "\n",
    "Which of the following statements about $k$-Nearest Neighbor ($k$-NN) are true in a classification setting, and for all $k$? Select all that apply.\n",
    "1. The decision boundary (hyperplane between classes in feature space) of the k-NN classifier is linear.\n",
    "2. The training error of a 1-NN will always be lower than that of 5-NN.\n",
    "3. The test error of a 1-NN will always be lower than that of a 5-NN.\n",
    "4. The time needed to classify a test example with the k-NN classifier grows with the size of the training set.\n",
    "5. None of the above.\n",
    "\n",
    "*Your Answer:*\n",
    "\n",
    "Корректные ответы: 4\n",
    "\n",
    "Объяснение:\n",
    "\n",
    "1. Неверно - граница решения k-NN нелинейная\n",
    "2. Неверно - ошибка на обучении может быть и выше\n",
    "3. Неверно - тестовая ошибка 5-NN часто ниже из-за лучшей генерализации\n",
    "4. Верно - необходимо вычислять расстояния до всех точек обучающей выборки\n",
    "5. Неверно - утверждение \n",
    "\n",
    "\n",
    "\n"
   ]
  }
 ],
 "metadata": {
  "colab": {
   "provenance": []
  },
  "kernelspec": {
   "display_name": "Python 3 (ipykernel)",
   "language": "python",
   "name": "python3"
  },
  "language_info": {
   "codemirror_mode": {
    "name": "ipython",
    "version": 3
   },
   "file_extension": ".py",
   "mimetype": "text/x-python",
   "name": "python",
   "nbconvert_exporter": "python",
   "pygments_lexer": "ipython3",
   "version": "3.9.12"
  }
 },
 "nbformat": 4,
 "nbformat_minor": 1
}
